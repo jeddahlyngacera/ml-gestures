{
 "cells": [
  {
   "cell_type": "markdown",
   "metadata": {},
   "source": [
    "# ROCK, PAPER, SCISSORS, spOcK! \n",
    "## Classifying Gestures by Reading Muscle Activity\n",
    "#### Jeddahlyn Gacera <br /> MSDS 2020 <br /> ML Individual Project"
   ]
  },
  {
   "cell_type": "markdown",
   "metadata": {},
   "source": [
    "## Highlights and Results\n",
    "The objective of this study is to apply the learnings of Machine Learning class to real world datasets like electrical muscle activity and explore the current trend of Artificial Intelligence in the field of Prosthetics.\n",
    "\n",
    "Prosthetic implant is an artificial device that replaces a missing body part, which may be lost through trauma, disease, or congenital disorder. Prostheses intend to help people with disabilities to restore the normal functions of what they've lost. A way to improve these devices is through the help of an electromyography (EMG), an electrodiagnostic medicine technique for evaluating and recording the electrical activity produced by skeletal muscles, which then can be analyzed by a computer to detect the gesture intended to be made by the muscles.\n",
    "\n",
    "In this study, Machine Learning algorithms have been used to **11,678 rows of muscle activity Kaggle data** to create a model that can predict the **classification of a gesture among 4 classes: rock, paper, scissors, or OK**, with a test **accuracy of 96.54%**, which is higher than the methods used by others who have explored the dataset.\n",
    "\n",
    "In addition, companies like **Neuralink by Elon Musk, Kernel by Bryan Johnson, and CTRL-Labs by Thomas Reardon** have done breakthroughs as they aim to **read and write from the brain** by tapping directly into the nervous system to decode individual neurons."
   ]
  },
  {
   "cell_type": "markdown",
   "metadata": {},
   "source": [
    "## Methodology"
   ]
  },
  {
   "cell_type": "markdown",
   "metadata": {},
   "source": [
    "### 1. Data Description and Processing\n",
    "\n",
    "<img src=\"kaggle.png\" width=\"300\"/>\n",
    "\n",
    "Data used in this study is from **Kaggle**, an online community of data scientists and machine learners, owned by Google LLC that allows users to find and publish data sets, explore and build models in a web-based data-science environment.\n",
    "\n",
    "<img src=\"kirill_yashuk.png\" width=\"350\" align=\"left\" />\n",
    "<img src=\"classify_page.png\" width=\"600\" align=\"left\" />"
   ]
  },
  {
   "cell_type": "markdown",
   "metadata": {},
   "source": [
    "Uploaded by **Kirill Yashuk** 8 months ago, the dataset found here: https://www.kaggle.com/kyr7plus/emg-4 entitled **Classify gestures by reading muscle activity** consists of **4 CSV files** corresponding to each of the **classes**:\n",
    "* Class **0**: rock\n",
    "* Class **1**: scissors\n",
    "* Class **2**: paper\n",
    "* Class **3**: OK\n",
    "\n",
    "All 4 files were appended into 1 dataset wherein Machine Learning algorithms were applied."
   ]
  },
  {
   "cell_type": "markdown",
   "metadata": {},
   "source": [
    "#### Load needed libraries"
   ]
  },
  {
   "cell_type": "code",
   "execution_count": 28,
   "metadata": {
    "ExecuteTime": {
     "end_time": "2019-08-20T10:54:18.649654Z",
     "start_time": "2019-08-20T10:54:18.365183Z"
    }
   },
   "outputs": [],
   "source": [
    "# Libraries needed\n",
    "import pandas as pd\n",
    "from collections import Counter\n",
    "import matplotlib.pyplot as plt\n",
    "import seaborn as sns\n",
    "\n",
    "# Machine Learning libraries\n",
    "from sklearn.model_selection import train_test_split\n",
    "from sklearn.model_selection import GridSearchCV\n",
    "from sklearn.neighbors import KNeighborsClassifier\n",
    "from sklearn.linear_model import LogisticRegression\n",
    "from sklearn.svm import LinearSVC\n",
    "from sklearn.svm import SVC\n",
    "from sklearn.tree import DecisionTreeClassifier\n",
    "from sklearn.ensemble import RandomForestClassifier\n",
    "from sklearn.ensemble import GradientBoostingClassifier\n",
    "from sklearn.metrics import classification_report"
   ]
  },
  {
   "cell_type": "markdown",
   "metadata": {},
   "source": [
    "#### Load data using Pandas\n",
    "#### ROCK dataset"
   ]
  },
  {
   "cell_type": "code",
   "execution_count": 9,
   "metadata": {
    "ExecuteTime": {
     "end_time": "2019-08-20T10:46:50.378374Z",
     "start_time": "2019-08-20T10:46:50.344282Z"
    }
   },
   "outputs": [],
   "source": [
    "df0 = pd.read_csv('0.csv', header = None)"
   ]
  },
  {
   "cell_type": "code",
   "execution_count": 4,
   "metadata": {
    "ExecuteTime": {
     "end_time": "2019-08-20T10:19:17.079277Z",
     "start_time": "2019-08-20T10:19:17.060369Z"
    }
   },
   "outputs": [
    {
     "data": {
      "text/html": [
       "<div>\n",
       "<style scoped>\n",
       "    .dataframe tbody tr th:only-of-type {\n",
       "        vertical-align: middle;\n",
       "    }\n",
       "\n",
       "    .dataframe tbody tr th {\n",
       "        vertical-align: top;\n",
       "    }\n",
       "\n",
       "    .dataframe thead th {\n",
       "        text-align: right;\n",
       "    }\n",
       "</style>\n",
       "<table border=\"1\" class=\"dataframe\">\n",
       "  <thead>\n",
       "    <tr style=\"text-align: right;\">\n",
       "      <th></th>\n",
       "      <th>0</th>\n",
       "      <th>1</th>\n",
       "      <th>2</th>\n",
       "      <th>3</th>\n",
       "      <th>4</th>\n",
       "      <th>5</th>\n",
       "      <th>6</th>\n",
       "      <th>7</th>\n",
       "      <th>8</th>\n",
       "      <th>9</th>\n",
       "      <th>...</th>\n",
       "      <th>55</th>\n",
       "      <th>56</th>\n",
       "      <th>57</th>\n",
       "      <th>58</th>\n",
       "      <th>59</th>\n",
       "      <th>60</th>\n",
       "      <th>61</th>\n",
       "      <th>62</th>\n",
       "      <th>63</th>\n",
       "      <th>64</th>\n",
       "    </tr>\n",
       "  </thead>\n",
       "  <tbody>\n",
       "    <tr>\n",
       "      <th>0</th>\n",
       "      <td>26.0</td>\n",
       "      <td>4.0</td>\n",
       "      <td>5.0</td>\n",
       "      <td>8.0</td>\n",
       "      <td>-1.0</td>\n",
       "      <td>-13.0</td>\n",
       "      <td>-109.0</td>\n",
       "      <td>-66.0</td>\n",
       "      <td>-9.0</td>\n",
       "      <td>2.0</td>\n",
       "      <td>...</td>\n",
       "      <td>-28.0</td>\n",
       "      <td>61.0</td>\n",
       "      <td>4.0</td>\n",
       "      <td>8.0</td>\n",
       "      <td>5.0</td>\n",
       "      <td>4.0</td>\n",
       "      <td>-7.0</td>\n",
       "      <td>-59.0</td>\n",
       "      <td>16.0</td>\n",
       "      <td>0</td>\n",
       "    </tr>\n",
       "    <tr>\n",
       "      <th>1</th>\n",
       "      <td>-47.0</td>\n",
       "      <td>-6.0</td>\n",
       "      <td>-5.0</td>\n",
       "      <td>-7.0</td>\n",
       "      <td>13.0</td>\n",
       "      <td>-1.0</td>\n",
       "      <td>35.0</td>\n",
       "      <td>-10.0</td>\n",
       "      <td>10.0</td>\n",
       "      <td>-4.0</td>\n",
       "      <td>...</td>\n",
       "      <td>-25.0</td>\n",
       "      <td>47.0</td>\n",
       "      <td>6.0</td>\n",
       "      <td>6.0</td>\n",
       "      <td>5.0</td>\n",
       "      <td>13.0</td>\n",
       "      <td>21.0</td>\n",
       "      <td>111.0</td>\n",
       "      <td>15.0</td>\n",
       "      <td>0</td>\n",
       "    </tr>\n",
       "  </tbody>\n",
       "</table>\n",
       "<p>2 rows × 65 columns</p>\n",
       "</div>"
      ],
      "text/plain": [
       "     0    1    2    3     4     5      6     7     8    9   ...    55    56  \\\n",
       "0  26.0  4.0  5.0  8.0  -1.0 -13.0 -109.0 -66.0  -9.0  2.0  ... -28.0  61.0   \n",
       "1 -47.0 -6.0 -5.0 -7.0  13.0  -1.0   35.0 -10.0  10.0 -4.0  ... -25.0  47.0   \n",
       "\n",
       "    57   58   59    60    61     62    63  64  \n",
       "0  4.0  8.0  5.0   4.0  -7.0  -59.0  16.0   0  \n",
       "1  6.0  6.0  5.0  13.0  21.0  111.0  15.0   0  \n",
       "\n",
       "[2 rows x 65 columns]"
      ]
     },
     "execution_count": 4,
     "metadata": {},
     "output_type": "execute_result"
    }
   ],
   "source": [
    "df0.head(2)"
   ]
  },
  {
   "cell_type": "markdown",
   "metadata": {},
   "source": [
    "#### SCISSORS dataset"
   ]
  },
  {
   "cell_type": "code",
   "execution_count": null,
   "metadata": {},
   "outputs": [],
   "source": [
    "df1 = pd.read_csv('1.csv', header = None)"
   ]
  },
  {
   "cell_type": "code",
   "execution_count": 5,
   "metadata": {
    "ExecuteTime": {
     "end_time": "2019-08-20T10:19:23.440317Z",
     "start_time": "2019-08-20T10:19:23.423363Z"
    }
   },
   "outputs": [
    {
     "data": {
      "text/html": [
       "<div>\n",
       "<style scoped>\n",
       "    .dataframe tbody tr th:only-of-type {\n",
       "        vertical-align: middle;\n",
       "    }\n",
       "\n",
       "    .dataframe tbody tr th {\n",
       "        vertical-align: top;\n",
       "    }\n",
       "\n",
       "    .dataframe thead th {\n",
       "        text-align: right;\n",
       "    }\n",
       "</style>\n",
       "<table border=\"1\" class=\"dataframe\">\n",
       "  <thead>\n",
       "    <tr style=\"text-align: right;\">\n",
       "      <th></th>\n",
       "      <th>0</th>\n",
       "      <th>1</th>\n",
       "      <th>2</th>\n",
       "      <th>3</th>\n",
       "      <th>4</th>\n",
       "      <th>5</th>\n",
       "      <th>6</th>\n",
       "      <th>7</th>\n",
       "      <th>8</th>\n",
       "      <th>9</th>\n",
       "      <th>...</th>\n",
       "      <th>55</th>\n",
       "      <th>56</th>\n",
       "      <th>57</th>\n",
       "      <th>58</th>\n",
       "      <th>59</th>\n",
       "      <th>60</th>\n",
       "      <th>61</th>\n",
       "      <th>62</th>\n",
       "      <th>63</th>\n",
       "      <th>64</th>\n",
       "    </tr>\n",
       "  </thead>\n",
       "  <tbody>\n",
       "    <tr>\n",
       "      <th>0</th>\n",
       "      <td>-7.0</td>\n",
       "      <td>-1.0</td>\n",
       "      <td>-1.0</td>\n",
       "      <td>0.0</td>\n",
       "      <td>-10.0</td>\n",
       "      <td>-10.0</td>\n",
       "      <td>-1.0</td>\n",
       "      <td>1.0</td>\n",
       "      <td>-5.0</td>\n",
       "      <td>-5.0</td>\n",
       "      <td>...</td>\n",
       "      <td>6.0</td>\n",
       "      <td>-4.0</td>\n",
       "      <td>-3.0</td>\n",
       "      <td>-5.0</td>\n",
       "      <td>-3.0</td>\n",
       "      <td>15.0</td>\n",
       "      <td>11.0</td>\n",
       "      <td>-4.0</td>\n",
       "      <td>-5.0</td>\n",
       "      <td>1</td>\n",
       "    </tr>\n",
       "    <tr>\n",
       "      <th>1</th>\n",
       "      <td>-6.0</td>\n",
       "      <td>-2.0</td>\n",
       "      <td>-5.0</td>\n",
       "      <td>-2.0</td>\n",
       "      <td>27.0</td>\n",
       "      <td>42.0</td>\n",
       "      <td>3.0</td>\n",
       "      <td>5.0</td>\n",
       "      <td>11.0</td>\n",
       "      <td>1.0</td>\n",
       "      <td>...</td>\n",
       "      <td>2.0</td>\n",
       "      <td>-17.0</td>\n",
       "      <td>-5.0</td>\n",
       "      <td>-7.0</td>\n",
       "      <td>-2.0</td>\n",
       "      <td>15.0</td>\n",
       "      <td>12.0</td>\n",
       "      <td>0.0</td>\n",
       "      <td>-7.0</td>\n",
       "      <td>1</td>\n",
       "    </tr>\n",
       "  </tbody>\n",
       "</table>\n",
       "<p>2 rows × 65 columns</p>\n",
       "</div>"
      ],
      "text/plain": [
       "    0    1    2    3     4     5    6    7     8    9   ...   55    56   57  \\\n",
       "0 -7.0 -1.0 -1.0  0.0 -10.0 -10.0 -1.0  1.0  -5.0 -5.0  ...  6.0  -4.0 -3.0   \n",
       "1 -6.0 -2.0 -5.0 -2.0  27.0  42.0  3.0  5.0  11.0  1.0  ...  2.0 -17.0 -5.0   \n",
       "\n",
       "    58   59    60    61   62   63  64  \n",
       "0 -5.0 -3.0  15.0  11.0 -4.0 -5.0   1  \n",
       "1 -7.0 -2.0  15.0  12.0  0.0 -7.0   1  \n",
       "\n",
       "[2 rows x 65 columns]"
      ]
     },
     "execution_count": 5,
     "metadata": {},
     "output_type": "execute_result"
    }
   ],
   "source": [
    "df1.head(2)"
   ]
  },
  {
   "cell_type": "markdown",
   "metadata": {},
   "source": [
    "#### PAPER dataset"
   ]
  },
  {
   "cell_type": "code",
   "execution_count": null,
   "metadata": {},
   "outputs": [],
   "source": [
    "df2 = pd.read_csv('2.csv', header = None)"
   ]
  },
  {
   "cell_type": "code",
   "execution_count": 6,
   "metadata": {
    "ExecuteTime": {
     "end_time": "2019-08-20T10:19:28.466625Z",
     "start_time": "2019-08-20T10:19:28.444655Z"
    }
   },
   "outputs": [
    {
     "data": {
      "text/html": [
       "<div>\n",
       "<style scoped>\n",
       "    .dataframe tbody tr th:only-of-type {\n",
       "        vertical-align: middle;\n",
       "    }\n",
       "\n",
       "    .dataframe tbody tr th {\n",
       "        vertical-align: top;\n",
       "    }\n",
       "\n",
       "    .dataframe thead th {\n",
       "        text-align: right;\n",
       "    }\n",
       "</style>\n",
       "<table border=\"1\" class=\"dataframe\">\n",
       "  <thead>\n",
       "    <tr style=\"text-align: right;\">\n",
       "      <th></th>\n",
       "      <th>0</th>\n",
       "      <th>1</th>\n",
       "      <th>2</th>\n",
       "      <th>3</th>\n",
       "      <th>4</th>\n",
       "      <th>5</th>\n",
       "      <th>6</th>\n",
       "      <th>7</th>\n",
       "      <th>8</th>\n",
       "      <th>9</th>\n",
       "      <th>...</th>\n",
       "      <th>55</th>\n",
       "      <th>56</th>\n",
       "      <th>57</th>\n",
       "      <th>58</th>\n",
       "      <th>59</th>\n",
       "      <th>60</th>\n",
       "      <th>61</th>\n",
       "      <th>62</th>\n",
       "      <th>63</th>\n",
       "      <th>64</th>\n",
       "    </tr>\n",
       "  </thead>\n",
       "  <tbody>\n",
       "    <tr>\n",
       "      <th>0</th>\n",
       "      <td>4.0</td>\n",
       "      <td>19.0</td>\n",
       "      <td>-9.0</td>\n",
       "      <td>-7.0</td>\n",
       "      <td>-3.0</td>\n",
       "      <td>-36.0</td>\n",
       "      <td>-6.0</td>\n",
       "      <td>-23.0</td>\n",
       "      <td>3.0</td>\n",
       "      <td>-21.0</td>\n",
       "      <td>...</td>\n",
       "      <td>9.0</td>\n",
       "      <td>-14.0</td>\n",
       "      <td>-2.0</td>\n",
       "      <td>-3.0</td>\n",
       "      <td>-4.0</td>\n",
       "      <td>-21.0</td>\n",
       "      <td>7.0</td>\n",
       "      <td>-8.0</td>\n",
       "      <td>-12.0</td>\n",
       "      <td>2</td>\n",
       "    </tr>\n",
       "    <tr>\n",
       "      <th>1</th>\n",
       "      <td>-1.0</td>\n",
       "      <td>12.0</td>\n",
       "      <td>20.0</td>\n",
       "      <td>7.0</td>\n",
       "      <td>20.0</td>\n",
       "      <td>-73.0</td>\n",
       "      <td>-4.0</td>\n",
       "      <td>-2.0</td>\n",
       "      <td>4.0</td>\n",
       "      <td>5.0</td>\n",
       "      <td>...</td>\n",
       "      <td>-3.0</td>\n",
       "      <td>-5.0</td>\n",
       "      <td>-2.0</td>\n",
       "      <td>0.0</td>\n",
       "      <td>-4.0</td>\n",
       "      <td>-7.0</td>\n",
       "      <td>5.0</td>\n",
       "      <td>6.0</td>\n",
       "      <td>9.0</td>\n",
       "      <td>2</td>\n",
       "    </tr>\n",
       "  </tbody>\n",
       "</table>\n",
       "<p>2 rows × 65 columns</p>\n",
       "</div>"
      ],
      "text/plain": [
       "    0     1     2    3     4     5    6     7    8     9   ...   55    56  \\\n",
       "0  4.0  19.0  -9.0 -7.0  -3.0 -36.0 -6.0 -23.0  3.0 -21.0  ...  9.0 -14.0   \n",
       "1 -1.0  12.0  20.0  7.0  20.0 -73.0 -4.0  -2.0  4.0   5.0  ... -3.0  -5.0   \n",
       "\n",
       "    57   58   59    60   61   62    63  64  \n",
       "0 -2.0 -3.0 -4.0 -21.0  7.0 -8.0 -12.0   2  \n",
       "1 -2.0  0.0 -4.0  -7.0  5.0  6.0   9.0   2  \n",
       "\n",
       "[2 rows x 65 columns]"
      ]
     },
     "execution_count": 6,
     "metadata": {},
     "output_type": "execute_result"
    }
   ],
   "source": [
    "df2.head(2)"
   ]
  },
  {
   "cell_type": "markdown",
   "metadata": {},
   "source": [
    "#### OK dataset"
   ]
  },
  {
   "cell_type": "code",
   "execution_count": 2,
   "metadata": {
    "ExecuteTime": {
     "end_time": "2019-08-20T10:19:00.629673Z",
     "start_time": "2019-08-20T10:19:00.489356Z"
    }
   },
   "outputs": [],
   "source": [
    "df3 = pd.read_csv('3.csv', header = None)"
   ]
  },
  {
   "cell_type": "code",
   "execution_count": 7,
   "metadata": {
    "ExecuteTime": {
     "end_time": "2019-08-20T10:19:33.782694Z",
     "start_time": "2019-08-20T10:19:33.761751Z"
    }
   },
   "outputs": [
    {
     "data": {
      "text/html": [
       "<div>\n",
       "<style scoped>\n",
       "    .dataframe tbody tr th:only-of-type {\n",
       "        vertical-align: middle;\n",
       "    }\n",
       "\n",
       "    .dataframe tbody tr th {\n",
       "        vertical-align: top;\n",
       "    }\n",
       "\n",
       "    .dataframe thead th {\n",
       "        text-align: right;\n",
       "    }\n",
       "</style>\n",
       "<table border=\"1\" class=\"dataframe\">\n",
       "  <thead>\n",
       "    <tr style=\"text-align: right;\">\n",
       "      <th></th>\n",
       "      <th>0</th>\n",
       "      <th>1</th>\n",
       "      <th>2</th>\n",
       "      <th>3</th>\n",
       "      <th>4</th>\n",
       "      <th>5</th>\n",
       "      <th>6</th>\n",
       "      <th>7</th>\n",
       "      <th>8</th>\n",
       "      <th>9</th>\n",
       "      <th>...</th>\n",
       "      <th>55</th>\n",
       "      <th>56</th>\n",
       "      <th>57</th>\n",
       "      <th>58</th>\n",
       "      <th>59</th>\n",
       "      <th>60</th>\n",
       "      <th>61</th>\n",
       "      <th>62</th>\n",
       "      <th>63</th>\n",
       "      <th>64</th>\n",
       "    </tr>\n",
       "  </thead>\n",
       "  <tbody>\n",
       "    <tr>\n",
       "      <th>0</th>\n",
       "      <td>-22.0</td>\n",
       "      <td>-9.0</td>\n",
       "      <td>-6.0</td>\n",
       "      <td>-1.0</td>\n",
       "      <td>21.0</td>\n",
       "      <td>26.0</td>\n",
       "      <td>-2.0</td>\n",
       "      <td>5.0</td>\n",
       "      <td>5.0</td>\n",
       "      <td>0.0</td>\n",
       "      <td>...</td>\n",
       "      <td>-10.0</td>\n",
       "      <td>-15.0</td>\n",
       "      <td>-6.0</td>\n",
       "      <td>-3.0</td>\n",
       "      <td>3.0</td>\n",
       "      <td>20.0</td>\n",
       "      <td>25.0</td>\n",
       "      <td>1.0</td>\n",
       "      <td>1.0</td>\n",
       "      <td>3</td>\n",
       "    </tr>\n",
       "    <tr>\n",
       "      <th>1</th>\n",
       "      <td>-7.0</td>\n",
       "      <td>0.0</td>\n",
       "      <td>1.0</td>\n",
       "      <td>0.0</td>\n",
       "      <td>-13.0</td>\n",
       "      <td>-18.0</td>\n",
       "      <td>0.0</td>\n",
       "      <td>-9.0</td>\n",
       "      <td>-6.0</td>\n",
       "      <td>-2.0</td>\n",
       "      <td>...</td>\n",
       "      <td>-1.0</td>\n",
       "      <td>11.0</td>\n",
       "      <td>-4.0</td>\n",
       "      <td>-5.0</td>\n",
       "      <td>-4.0</td>\n",
       "      <td>3.0</td>\n",
       "      <td>-8.0</td>\n",
       "      <td>-7.0</td>\n",
       "      <td>-3.0</td>\n",
       "      <td>3</td>\n",
       "    </tr>\n",
       "  </tbody>\n",
       "</table>\n",
       "<p>2 rows × 65 columns</p>\n",
       "</div>"
      ],
      "text/plain": [
       "     0    1    2    3     4     5    6    7    8    9   ...    55    56   57  \\\n",
       "0 -22.0 -9.0 -6.0 -1.0  21.0  26.0 -2.0  5.0  5.0  0.0  ... -10.0 -15.0 -6.0   \n",
       "1  -7.0  0.0  1.0  0.0 -13.0 -18.0  0.0 -9.0 -6.0 -2.0  ...  -1.0  11.0 -4.0   \n",
       "\n",
       "    58   59    60    61   62   63  64  \n",
       "0 -3.0  3.0  20.0  25.0  1.0  1.0   3  \n",
       "1 -5.0 -4.0   3.0  -8.0 -7.0 -3.0   3  \n",
       "\n",
       "[2 rows x 65 columns]"
      ]
     },
     "execution_count": 7,
     "metadata": {},
     "output_type": "execute_result"
    }
   ],
   "source": [
    "df3.head(2)"
   ]
  },
  {
   "cell_type": "markdown",
   "metadata": {},
   "source": [
    "#### Combine all datasets to one main dataframe"
   ]
  },
  {
   "cell_type": "code",
   "execution_count": null,
   "metadata": {},
   "outputs": [],
   "source": [
    "df = pd.concat([df0, df1, df2, df3])"
   ]
  },
  {
   "cell_type": "code",
   "execution_count": 74,
   "metadata": {
    "ExecuteTime": {
     "end_time": "2019-08-20T11:06:31.885802Z",
     "start_time": "2019-08-20T11:06:31.867814Z"
    }
   },
   "outputs": [
    {
     "data": {
      "text/html": [
       "<div>\n",
       "<style scoped>\n",
       "    .dataframe tbody tr th:only-of-type {\n",
       "        vertical-align: middle;\n",
       "    }\n",
       "\n",
       "    .dataframe tbody tr th {\n",
       "        vertical-align: top;\n",
       "    }\n",
       "\n",
       "    .dataframe thead th {\n",
       "        text-align: right;\n",
       "    }\n",
       "</style>\n",
       "<table border=\"1\" class=\"dataframe\">\n",
       "  <thead>\n",
       "    <tr style=\"text-align: right;\">\n",
       "      <th></th>\n",
       "      <th>0</th>\n",
       "      <th>1</th>\n",
       "      <th>2</th>\n",
       "      <th>3</th>\n",
       "      <th>4</th>\n",
       "      <th>5</th>\n",
       "      <th>6</th>\n",
       "      <th>7</th>\n",
       "      <th>8</th>\n",
       "      <th>9</th>\n",
       "      <th>...</th>\n",
       "      <th>55</th>\n",
       "      <th>56</th>\n",
       "      <th>57</th>\n",
       "      <th>58</th>\n",
       "      <th>59</th>\n",
       "      <th>60</th>\n",
       "      <th>61</th>\n",
       "      <th>62</th>\n",
       "      <th>63</th>\n",
       "      <th>64</th>\n",
       "    </tr>\n",
       "  </thead>\n",
       "  <tbody>\n",
       "    <tr>\n",
       "      <th>0</th>\n",
       "      <td>26.0</td>\n",
       "      <td>4.0</td>\n",
       "      <td>5.0</td>\n",
       "      <td>8.0</td>\n",
       "      <td>-1.0</td>\n",
       "      <td>-13.0</td>\n",
       "      <td>-109.0</td>\n",
       "      <td>-66.0</td>\n",
       "      <td>-9.0</td>\n",
       "      <td>2.0</td>\n",
       "      <td>...</td>\n",
       "      <td>-28.0</td>\n",
       "      <td>61.0</td>\n",
       "      <td>4.0</td>\n",
       "      <td>8.0</td>\n",
       "      <td>5.0</td>\n",
       "      <td>4.0</td>\n",
       "      <td>-7.0</td>\n",
       "      <td>-59.0</td>\n",
       "      <td>16.0</td>\n",
       "      <td>0</td>\n",
       "    </tr>\n",
       "    <tr>\n",
       "      <th>1</th>\n",
       "      <td>-47.0</td>\n",
       "      <td>-6.0</td>\n",
       "      <td>-5.0</td>\n",
       "      <td>-7.0</td>\n",
       "      <td>13.0</td>\n",
       "      <td>-1.0</td>\n",
       "      <td>35.0</td>\n",
       "      <td>-10.0</td>\n",
       "      <td>10.0</td>\n",
       "      <td>-4.0</td>\n",
       "      <td>...</td>\n",
       "      <td>-25.0</td>\n",
       "      <td>47.0</td>\n",
       "      <td>6.0</td>\n",
       "      <td>6.0</td>\n",
       "      <td>5.0</td>\n",
       "      <td>13.0</td>\n",
       "      <td>21.0</td>\n",
       "      <td>111.0</td>\n",
       "      <td>15.0</td>\n",
       "      <td>0</td>\n",
       "    </tr>\n",
       "  </tbody>\n",
       "</table>\n",
       "<p>2 rows × 65 columns</p>\n",
       "</div>"
      ],
      "text/plain": [
       "     0    1    2    3     4     5      6     7     8    9   ...    55    56  \\\n",
       "0  26.0  4.0  5.0  8.0  -1.0 -13.0 -109.0 -66.0  -9.0  2.0  ... -28.0  61.0   \n",
       "1 -47.0 -6.0 -5.0 -7.0  13.0  -1.0   35.0 -10.0  10.0 -4.0  ... -25.0  47.0   \n",
       "\n",
       "    57   58   59    60    61     62    63  64  \n",
       "0  4.0  8.0  5.0   4.0  -7.0  -59.0  16.0   0  \n",
       "1  6.0  6.0  5.0  13.0  21.0  111.0  15.0   0  \n",
       "\n",
       "[2 rows x 65 columns]"
      ]
     },
     "execution_count": 74,
     "metadata": {},
     "output_type": "execute_result"
    }
   ],
   "source": [
    "df.head(2)"
   ]
  },
  {
   "cell_type": "markdown",
   "metadata": {},
   "source": [
    "#### 11,678 rows by 65 columns where the 65th column consists of the classification labels"
   ]
  },
  {
   "cell_type": "code",
   "execution_count": 8,
   "metadata": {
    "ExecuteTime": {
     "end_time": "2019-08-20T10:19:40.788262Z",
     "start_time": "2019-08-20T10:19:40.782247Z"
    }
   },
   "outputs": [
    {
     "data": {
      "text/plain": [
       "(11678, 65)"
      ]
     },
     "execution_count": 8,
     "metadata": {},
     "output_type": "execute_result"
    }
   ],
   "source": [
    "df.shape"
   ]
  },
  {
   "cell_type": "markdown",
   "metadata": {},
   "source": [
    "### 2. Exploratory Data Analysis"
   ]
  },
  {
   "cell_type": "code",
   "execution_count": 42,
   "metadata": {
    "ExecuteTime": {
     "end_time": "2019-08-20T10:57:52.577938Z",
     "start_time": "2019-08-20T10:57:52.387416Z"
    }
   },
   "outputs": [
    {
     "data": {
      "image/png": "[encoded data removed]",
      "text/plain": [
       "<Figure size 600x400 with 1 Axes>"
      ]
     },
     "metadata": {
      "needs_background": "light"
     },
     "output_type": "display_data"
    }
   ],
   "source": [
    "fig, ax = plt.subplots(dpi=100)\n",
    "ax = sns.distplot(df[64], kde=False, color='red')\n",
    "ax.set_xlabel('Class')\n",
    "ax.set_ylabel('Count')\n",
    "ax.set_title('Histogram for classes 0-3')\n",
    "fig;"
   ]
  },
  {
   "cell_type": "code",
   "execution_count": 75,
   "metadata": {
    "ExecuteTime": {
     "end_time": "2019-08-20T11:07:52.796579Z",
     "start_time": "2019-08-20T11:07:52.602104Z"
    }
   },
   "outputs": [
    {
     "data": {
      "image/png": "[encoded data removed]",
      "text/plain": [
       "<Figure size 600x400 with 1 Axes>"
      ]
     },
     "metadata": {
      "needs_background": "light"
     },
     "output_type": "display_data"
    }
   ],
   "source": [
    "fig, ax = plt.subplots(dpi=100)\n",
    "line0, = ax.plot(df0[[0,1,2,3,4,5,6,7,8,9,10,11,12,13,14,15]][0:1].T, label='rock1')\n",
    "line1, = ax.plot(df0[[0,1,2,3,4,5,6,7,8,9,10,11,12,13,14,15]][1:2].T, label='rock2')\n",
    "line2, = ax.plot(df0[[0,1,2,3,4,5,6,7,8,9,10,11,12,13,14,15]][2:3].T, label='rock3')\n",
    "line3, = ax.plot(df0[[0,1,2,3,4,5,6,7,8,9,10,11,12,13,14,15]][3:4].T, label='rock4')\n",
    "ax.legend(handles=[line0,line1,line2,line3])\n",
    "ax.set_xlabel('Sensors')\n",
    "ax.set_ylabel('Readings')\n",
    "ax.set_title('First 4 readings for ROCK')\n",
    "fig;"
   ]
  },
  {
   "cell_type": "code",
   "execution_count": 76,
   "metadata": {
    "ExecuteTime": {
     "end_time": "2019-08-20T11:07:56.693902Z",
     "start_time": "2019-08-20T11:07:56.490359Z"
    }
   },
   "outputs": [
    {
     "data": {
      "image/png": "[encoded data removed]",
      "text/plain": [
       "<Figure size 600x400 with 1 Axes>"
      ]
     },
     "metadata": {
      "needs_background": "light"
     },
     "output_type": "display_data"
    }
   ],
   "source": [
    "fig, ax = plt.subplots(dpi=100)\n",
    "line0, = ax.plot(df1[[0,1,2,3,4,5,6,7,8,9,10,11,12,13,14,15]][0:1].T, label='scissors1')\n",
    "line1, = ax.plot(df1[[0,1,2,3,4,5,6,7,8,9,10,11,12,13,14,15]][1:2].T, label='scissors2')\n",
    "line2, = ax.plot(df1[[0,1,2,3,4,5,6,7,8,9,10,11,12,13,14,15]][2:3].T, label='scissors3')\n",
    "line3, = ax.plot(df1[[0,1,2,3,4,5,6,7,8,9,10,11,12,13,14,15]][3:4].T, label='scissors4')\n",
    "ax.legend(handles=[line0,line1,line2,line3])\n",
    "ax.set_xlabel('Sensors')\n",
    "ax.set_ylabel('Readings')\n",
    "ax.set_title('First 4 readings for SCISSORS')\n",
    "fig;"
   ]
  },
  {
   "cell_type": "code",
   "execution_count": 77,
   "metadata": {
    "ExecuteTime": {
     "end_time": "2019-08-20T11:07:59.867150Z",
     "start_time": "2019-08-20T11:07:59.613465Z"
    }
   },
   "outputs": [
    {
     "data": {
      "image/png": "[encoded data removed]",
      "text/plain": [
       "<Figure size 600x400 with 1 Axes>"
      ]
     },
     "metadata": {
      "needs_background": "light"
     },
     "output_type": "display_data"
    }
   ],
   "source": [
    "fig, ax = plt.subplots(dpi=100)\n",
    "line0, = ax.plot(df2[[0,1,2,3,4,5,6,7,8,9,10,11,12,13,14,15]][0:1].T, label='paper1')\n",
    "line1, = ax.plot(df2[[0,1,2,3,4,5,6,7,8,9,10,11,12,13,14,15]][1:2].T, label='paper2')\n",
    "line2, = ax.plot(df2[[0,1,2,3,4,5,6,7,8,9,10,11,12,13,14,15]][2:3].T, label='paper3')\n",
    "line3, = ax.plot(df2[[0,1,2,3,4,5,6,7,8,9,10,11,12,13,14,15]][3:4].T, label='paper4')\n",
    "ax.legend(handles=[line0,line1,line2,line3])\n",
    "ax.set_xlabel('Sensors')\n",
    "ax.set_ylabel('Readings')\n",
    "ax.set_title('First 4 readings for PAPER')\n",
    "fig;"
   ]
  },
  {
   "cell_type": "code",
   "execution_count": 78,
   "metadata": {
    "ExecuteTime": {
     "end_time": "2019-08-20T11:08:03.076731Z",
     "start_time": "2019-08-20T11:08:02.885211Z"
    }
   },
   "outputs": [
    {
     "data": {
      "image/png": "[encoded data removed]",
      "text/plain": [
       "<Figure size 600x400 with 1 Axes>"
      ]
     },
     "metadata": {
      "needs_background": "light"
     },
     "output_type": "display_data"
    }
   ],
   "source": [
    "fig, ax = plt.subplots(dpi=100)\n",
    "line0, = ax.plot(df3[[0,1,2,3,4,5,6,7,8,9,10,11,12,13,14,15]][0:1].T, label='OK1')\n",
    "line1, = ax.plot(df3[[0,1,2,3,4,5,6,7,8,9,10,11,12,13,14,15]][1:2].T, label='OK2')\n",
    "line2, = ax.plot(df3[[0,1,2,3,4,5,6,7,8,9,10,11,12,13,14,15]][2:3].T, label='OK3')\n",
    "line3, = ax.plot(df3[[0,1,2,3,4,5,6,7,8,9,10,11,12,13,14,15]][3:4].T, label='OK4')\n",
    "ax.legend(handles=[line0,line1,line2,line3])\n",
    "ax.set_xlabel('Sensors')\n",
    "ax.set_ylabel('Readings')\n",
    "ax.set_title('First 4 readings for OK')\n",
    "fig;"
   ]
  },
  {
   "cell_type": "markdown",
   "metadata": {},
   "source": [
    "### 3. Machine Learning Models"
   ]
  },
  {
   "cell_type": "markdown",
   "metadata": {},
   "source": [
    "#### Prepare data: features, X, y"
   ]
  },
  {
   "cell_type": "code",
   "execution_count": 79,
   "metadata": {
    "ExecuteTime": {
     "end_time": "2019-08-20T11:08:39.923571Z",
     "start_time": "2019-08-20T11:08:39.906620Z"
    }
   },
   "outputs": [],
   "source": [
    "features = [0,  1,  2,  3,  4,  5,  6,  7,  8,  9, 10, 11, 12, 13, 14, 15, 16,\n",
    "            17, 18, 19, 20, 21, 22, 23, 24, 25, 26, 27, 28, 29, 30, 31, 32, 33,\n",
    "            34, 35, 36, 37, 38, 39, 40, 41, 42, 43, 44, 45, 46, 47, 48, 49, 50,\n",
    "            51, 52, 53, 54, 55, 56, 57, 58, 59, 60, 61, 62, 63]\n",
    "X = df[features]\n",
    "y = df[64]"
   ]
  },
  {
   "cell_type": "code",
   "execution_count": 80,
   "metadata": {
    "ExecuteTime": {
     "end_time": "2019-08-20T11:08:42.364849Z",
     "start_time": "2019-08-20T11:08:42.356904Z"
    }
   },
   "outputs": [],
   "source": [
    "def compute_pcc_minacc_perc(target):\n",
    "    '''Returns PCC and Minimum Accuracy required'''\n",
    "    counts = Counter(target)\n",
    "    df_count = pd.DataFrame.from_dict(counts, orient='index')\n",
    "    pcc_all = (df_count[0]/df_count[0].sum())**2\n",
    "    pcc = pcc_all.sum()\n",
    "    print(f'Proportion Chance Criterion = {(100*pcc).round(4)}%')\n",
    "    print('\\nMinimum accuracy to be considered significant is computed by (1.25 * Proportion Chance Criterion)')\n",
    "    print(f'which is equal to {(125*pcc).round(4)}%')"
   ]
  },
  {
   "cell_type": "code",
   "execution_count": 81,
   "metadata": {
    "ExecuteTime": {
     "end_time": "2019-08-20T11:08:42.922344Z",
     "start_time": "2019-08-20T11:08:42.884447Z"
    }
   },
   "outputs": [
    {
     "name": "stdout",
     "output_type": "stream",
     "text": [
      "Proportion Chance Criterion = 25.0007%\n",
      "\n",
      "Minimum accuracy to be considered significant is computed by (1.25 * Proportion Chance Criterion)\n",
      "which is equal to 31.2508%\n"
     ]
    }
   ],
   "source": [
    "compute_pcc_minacc_perc(y)"
   ]
  },
  {
   "cell_type": "markdown",
   "metadata": {},
   "source": [
    "#### Split data by 75:25 for the training and test sets. No need for scaling as all of the data are of the same magnitudes."
   ]
  },
  {
   "cell_type": "code",
   "execution_count": 95,
   "metadata": {
    "ExecuteTime": {
     "end_time": "2019-08-20T11:15:58.557811Z",
     "start_time": "2019-08-20T11:15:58.546889Z"
    }
   },
   "outputs": [],
   "source": [
    "X_train, X_test, y_train, y_test = train_test_split(X, y, random_state=42, test_size=0.25)"
   ]
  },
  {
   "cell_type": "markdown",
   "metadata": {},
   "source": [
    "### Note that GridSearchCV has been used to locate the best hyperparameters for the following models."
   ]
  },
  {
   "cell_type": "markdown",
   "metadata": {},
   "source": [
    "#### KNeighborsClassifier"
   ]
  },
  {
   "cell_type": "code",
   "execution_count": 99,
   "metadata": {
    "ExecuteTime": {
     "end_time": "2019-08-20T11:17:04.352629Z",
     "start_time": "2019-08-20T11:17:01.291895Z"
    }
   },
   "outputs": [
    {
     "data": {
      "text/plain": [
       "0.6934931506849316"
      ]
     },
     "execution_count": 99,
     "metadata": {},
     "output_type": "execute_result"
    }
   ],
   "source": [
    "knn = KNeighborsClassifier(n_neighbors=7).fit(X_train, y_train)\n",
    "knn.score(X_test, y_test)"
   ]
  },
  {
   "cell_type": "markdown",
   "metadata": {},
   "source": [
    "#### Logistic Regression"
   ]
  },
  {
   "cell_type": "code",
   "execution_count": 116,
   "metadata": {
    "ExecuteTime": {
     "end_time": "2019-08-20T11:22:11.056921Z",
     "start_time": "2019-08-20T11:22:10.787642Z"
    }
   },
   "outputs": [
    {
     "data": {
      "text/plain": [
       "0.3386986301369863"
      ]
     },
     "execution_count": 116,
     "metadata": {},
     "output_type": "execute_result"
    }
   ],
   "source": [
    "log1 = LogisticRegression(C=0.01, penalty='l1', solver='liblinear',\n",
    "                            multi_class='auto').fit(X_train, y_train)\n",
    "log1.score(X_test, y_test)"
   ]
  },
  {
   "cell_type": "code",
   "execution_count": 117,
   "metadata": {
    "ExecuteTime": {
     "end_time": "2019-08-20T11:22:14.058144Z",
     "start_time": "2019-08-20T11:22:12.486315Z"
    }
   },
   "outputs": [
    {
     "data": {
      "text/plain": [
       "0.3376712328767123"
      ]
     },
     "execution_count": 117,
     "metadata": {},
     "output_type": "execute_result"
    }
   ],
   "source": [
    "log2 = LogisticRegression(C=0.1, penalty='l2', solver='liblinear',\n",
    "                            multi_class='auto').fit(X_train, y_train)\n",
    "log2.score(X_test, y_test)"
   ]
  },
  {
   "cell_type": "markdown",
   "metadata": {},
   "source": [
    "#### Linear SVC"
   ]
  },
  {
   "cell_type": "code",
   "execution_count": 118,
   "metadata": {
    "ExecuteTime": {
     "end_time": "2019-08-20T11:24:04.440033Z",
     "start_time": "2019-08-20T11:24:04.114898Z"
    }
   },
   "outputs": [
    {
     "data": {
      "text/plain": [
       "0.3339041095890411"
      ]
     },
     "execution_count": 118,
     "metadata": {},
     "output_type": "execute_result"
    }
   ],
   "source": [
    "lsvc1 = LinearSVC(C=0.01, penalty='l1', dual=False).fit(X_train, y_train)\n",
    "lsvc1.score(X_test, y_test)"
   ]
  },
  {
   "cell_type": "code",
   "execution_count": 119,
   "metadata": {
    "ExecuteTime": {
     "end_time": "2019-08-20T11:24:24.020698Z",
     "start_time": "2019-08-20T11:24:22.590454Z"
    }
   },
   "outputs": [
    {
     "data": {
      "text/plain": [
       "0.33287671232876714"
      ]
     },
     "execution_count": 119,
     "metadata": {},
     "output_type": "execute_result"
    }
   ],
   "source": [
    "lsvc2 = LinearSVC(C=0.1, penalty='l2', dual=False).fit(X_train, y_train)\n",
    "lsvc2.score(X_test, y_test)"
   ]
  },
  {
   "cell_type": "markdown",
   "metadata": {},
   "source": [
    "#### DecisionTreeClassifier"
   ]
  },
  {
   "cell_type": "code",
   "execution_count": 138,
   "metadata": {
    "ExecuteTime": {
     "end_time": "2019-08-20T11:32:26.818723Z",
     "start_time": "2019-08-20T11:32:26.615269Z"
    }
   },
   "outputs": [
    {
     "data": {
      "text/plain": [
       "0.7828767123287671"
      ]
     },
     "execution_count": 138,
     "metadata": {},
     "output_type": "execute_result"
    }
   ],
   "source": [
    "dt = DecisionTreeClassifier(max_features=0.4).fit(X_train, y_train)\n",
    "dt.score(X_test, y_test)"
   ]
  },
  {
   "cell_type": "markdown",
   "metadata": {},
   "source": [
    "#### RandomForestClassifier"
   ]
  },
  {
   "cell_type": "code",
   "execution_count": 134,
   "metadata": {
    "ExecuteTime": {
     "end_time": "2019-08-20T11:31:45.382403Z",
     "start_time": "2019-08-20T11:30:17.782289Z"
    }
   },
   "outputs": [
    {
     "data": {
      "text/plain": [
       "0.916095890410959"
      ]
     },
     "execution_count": 134,
     "metadata": {},
     "output_type": "execute_result"
    }
   ],
   "source": [
    "rf = RandomForestClassifier(n_estimators=800, max_features=0.4).fit(X_train, y_train)\n",
    "rf.score(X_test, y_test)"
   ]
  },
  {
   "cell_type": "markdown",
   "metadata": {},
   "source": [
    "#### GradientBoostingClassifier"
   ]
  },
  {
   "cell_type": "code",
   "execution_count": 142,
   "metadata": {
    "ExecuteTime": {
     "end_time": "2019-08-20T11:41:12.375423Z",
     "start_time": "2019-08-20T11:40:45.914752Z"
    }
   },
   "outputs": [
    {
     "data": {
      "text/plain": [
       "0.9654109589041096"
      ]
     },
     "execution_count": 142,
     "metadata": {},
     "output_type": "execute_result"
    }
   ],
   "source": [
    "gs = GradientBoostingClassifier(learning_rate=0.2, max_features=0.4, n_estimators=800).fit(X_train, y_train)\n",
    "gs.score(X_test, y_test)"
   ]
  },
  {
   "cell_type": "code",
   "execution_count": 143,
   "metadata": {
    "ExecuteTime": {
     "end_time": "2019-08-20T11:41:12.502244Z",
     "start_time": "2019-08-20T11:41:12.377412Z"
    }
   },
   "outputs": [],
   "source": [
    "y_pred = gs.predict(X_test)"
   ]
  },
  {
   "cell_type": "code",
   "execution_count": 144,
   "metadata": {
    "ExecuteTime": {
     "end_time": "2019-08-20T11:41:12.518037Z",
     "start_time": "2019-08-20T11:41:12.505069Z"
    }
   },
   "outputs": [
    {
     "name": "stdout",
     "output_type": "stream",
     "text": [
      "              precision    recall  f1-score   support\n",
      "\n",
      "           0       0.98      0.99      0.98       719\n",
      "           1       0.97      0.98      0.97       769\n",
      "           2       0.97      0.95      0.96       703\n",
      "           3       0.95      0.94      0.94       729\n",
      "\n",
      "    accuracy                           0.97      2920\n",
      "   macro avg       0.97      0.97      0.97      2920\n",
      "weighted avg       0.97      0.97      0.97      2920\n",
      "\n"
     ]
    }
   ],
   "source": [
    "print(classification_report(y_test, y_pred))"
   ]
  },
  {
   "cell_type": "markdown",
   "metadata": {},
   "source": [
    "#### Other results in Kaggle Kernels:\n",
    "TensorFlow NN: **90.92%** <br>\n",
    "LSTM: **95.62%** <br>\n",
    "CatBoostClassifier: **95.89%** <br>"
   ]
  },
  {
   "cell_type": "markdown",
   "metadata": {},
   "source": [
    "### 4. Results and Conclusion\n",
    "Among all the algorithms used, **GradientBoosting** method proved to be the **best** in terms of accuracy, with a percentage of **96.54%** which is even higher than the methods used in Kaggle, including neural network algorithms.\n",
    "\n",
    "GBM was even dubbed as better than deep learning in dealing with structured/tabular data like what we worked on in this study. GradientBoosting has been very popular especially in Kaggle tournaments as it is faster to train that neural networks, yet produces one of the highest accuracies.\n",
    "\n",
    "For further studies, it is recommended to try the XGBoost algorithm which is an upgrade of GBM as well as other neural networks, as these have been what the current AI trend for Prosthesis have been using."
   ]
  },
  {
   "cell_type": "markdown",
   "metadata": {},
   "source": [
    "## Applications and Advancements\n",
    "Looking into the current trend, institutions nowadays aim to **read and write directly from the brain**. Companies like **Neuralink** by Elon Musk and **Kernel** by Bryan Johnson is planning to do this by inserting a chip into the brain. However, a new emerging company, **CTRL-Labs** by Thomas Reardon created a device called CTRL-kit that aim to do the same but without the said implants. The device they invented is non-invasive, and will be available to the public. The CTRL-kit has two abilities: **myocontrol** (controlling the muscles by intention, meaning even being unable to move) and **neocontrol** (controlling the muscles using the brain, directly decoding the individual neurons to control the computer interface)\n",
    "\n",
    "<img src=\"robot_hand.png\" width=\"300\"/>\n",
    "\n",
    "*(man with a robot arm)*\n",
    "\n",
    "<img src=\"intent.png\" width=\"300\"/>\n",
    "\n",
    "*(capturing the intent to open the hand without being able to actually move)*\n",
    "\n",
    "<img src=\"no_hands.png\" width=\"300\"/>\n",
    "\n",
    "*(playing a game without actually pressing the spacebar)*\n",
    "\n",
    "**We as students are learning the foundations of machine learning, but actually, there are a lot of advancements now in the field of Artificial Intelligence. Everything now is only limited by our imagination. Just think of the possibilities of Neurointerfaces, breaking the boundaries between our imagination and physical capabilities.**"
   ]
  },
  {
   "cell_type": "markdown",
   "metadata": {},
   "source": [
    "## References and Acknowledgements\n",
    "    \n",
    "**Prostheses:** https://en.wikipedia.org/wiki/Prosthesis#Robotic_prostheses <br>\n",
    "**Kaggle dataset:** https://www.kaggle.com/kyr7plus/emg-4 <br>\n",
    "**Kirill Yashuk's Profile:** https://www.kaggle.com/kyr7plus <br>\n",
    "**Kaggle dataset Kernels:** https://www.kaggle.com/kyr7plus/emg-4/kernels <br>\n",
    "**GBM:** http://datascience.la/meetup-machine-learning-best-algorithms-gradient-boosting-machines-gbm/ <br>\n",
    "**Robot hand:** https://www.youtube.com/watch?v=xKUn0-Bhb7U&t=  <br>\n",
    "**CTRL-Labs:** https://www.youtube.com/watch?v=D8pB8sNBGlE  <br>\n",
    "MSDS 2020, especially my LT-mates <br>\n",
    "AIM MSDS Faculty and Staff <br>\n",
    "Prof. Eduardo David <br>\n",
    "Prof. Chris Monterola <br>\n",
    "Prof. Erika Legara <br>\n",
    "ACCeSs Lab <br>"
   ]
  }
 ],
 "metadata": {
  "kernelspec": {
   "display_name": "Python 3",
   "language": "python",
   "name": "python3"
  },
  "language_info": {
   "codemirror_mode": {
    "name": "ipython",
    "version": 3
   },
   "file_extension": ".py",
   "mimetype": "text/x-python",
   "name": "python",
   "nbconvert_exporter": "python",
   "pygments_lexer": "ipython3",
   "version": "3.7.3"
  }
 },
 "nbformat": 4,
 "nbformat_minor": 2
}
